{
 "cells": [
  {
   "cell_type": "code",
   "execution_count": 1,
   "id": "7de7751f",
   "metadata": {},
   "outputs": [],
   "source": [
    "%load_ext autoreload\n",
    "%autoreload 2"
   ]
  },
  {
   "cell_type": "code",
   "execution_count": 2,
   "id": "e5c9d654",
   "metadata": {},
   "outputs": [],
   "source": [
    "%reload_ext autoreload"
   ]
  },
  {
   "cell_type": "code",
   "execution_count": 3,
   "id": "072883df",
   "metadata": {},
   "outputs": [],
   "source": [
    "import sys\n",
    "import os"
   ]
  },
  {
   "cell_type": "code",
   "execution_count": 4,
   "id": "8f9e5784",
   "metadata": {},
   "outputs": [],
   "source": [
    "sys.path.append(os.path.abspath('../scripts/'))"
   ]
  },
  {
   "cell_type": "code",
   "execution_count": 5,
   "id": "4ebaacc1",
   "metadata": {},
   "outputs": [],
   "source": [
    "import pandas as pd\n",
    "import numpy as np\n",
    "from load_data import load_csv\n",
    "from Statistical_hyphothesis import statistic_hyphotesis_test"
   ]
  },
  {
   "cell_type": "code",
   "execution_count": 6,
   "id": "925b587e",
   "metadata": {},
   "outputs": [],
   "source": [
    "file_path = '../data/cleaned_insurance_data.csv'  # Path to your cleaned dataset\n",
    "# Define your significance level\n",
    "alpha = 0.05"
   ]
  },
  {
   "cell_type": "code",
   "execution_count": 7,
   "id": "6f4ee7b8",
   "metadata": {},
   "outputs": [
    {
     "name": "stderr",
     "output_type": "stream",
     "text": [
      "c:\\Users\\Tegbabu\\End-to-End-Insurance-Risk-Analytics-Predictive-Modeling\\scripts\\load_data.py:45: DtypeWarning: Columns (31) have mixed types. Specify dtype option on import or set low_memory=False.\n",
      "  df = pd.read_csv(filepath)\n",
      "2025-06-18 19:15:16,921 - INFO - CSV file loaded successfully from ../data/cleaned_insurance_data.csv.\n"
     ]
    }
   ],
   "source": [
    "df = load_csv(file_path)"
   ]
  },
  {
   "cell_type": "code",
   "execution_count": 8,
   "id": "0796796a",
   "metadata": {},
   "outputs": [
    {
     "name": "stdout",
     "output_type": "stream",
     "text": [
      "<class 'pandas.core.frame.DataFrame'>\n",
      "RangeIndex: 999546 entries, 0 to 999545\n",
      "Data columns (total 46 columns):\n",
      " #   Column                    Non-Null Count   Dtype  \n",
      "---  ------                    --------------   -----  \n",
      " 0   UnderwrittenCoverID       999546 non-null  int64  \n",
      " 1   PolicyID                  999546 non-null  int64  \n",
      " 2   TransactionMonth          999546 non-null  object \n",
      " 3   IsVATRegistered           999546 non-null  bool   \n",
      " 4   Citizenship               999546 non-null  object \n",
      " 5   LegalType                 999546 non-null  object \n",
      " 6   Title                     999546 non-null  object \n",
      " 7   Language                  999546 non-null  object \n",
      " 8   Bank                      999546 non-null  object \n",
      " 9   AccountType               999546 non-null  object \n",
      " 10  MaritalStatus             999546 non-null  object \n",
      " 11  Gender                    999546 non-null  object \n",
      " 12  Country                   999546 non-null  object \n",
      " 13  Province                  999546 non-null  object \n",
      " 14  PostalCode                999546 non-null  int64  \n",
      " 15  MainCrestaZone            999546 non-null  object \n",
      " 16  SubCrestaZone             999546 non-null  object \n",
      " 17  ItemType                  999546 non-null  object \n",
      " 18  mmcode                    999546 non-null  float64\n",
      " 19  VehicleType               999546 non-null  object \n",
      " 20  RegistrationYear          999546 non-null  int64  \n",
      " 21  make                      999546 non-null  object \n",
      " 22  Model                     999546 non-null  object \n",
      " 23  Cylinders                 999546 non-null  float64\n",
      " 24  cubiccapacity             999546 non-null  float64\n",
      " 25  kilowatts                 999546 non-null  float64\n",
      " 26  bodytype                  999546 non-null  object \n",
      " 27  NumberOfDoors             999546 non-null  float64\n",
      " 28  VehicleIntroDate          999546 non-null  object \n",
      " 29  AlarmImmobiliser          999546 non-null  object \n",
      " 30  TrackingDevice            999546 non-null  object \n",
      " 31  CapitalOutstanding        999544 non-null  object \n",
      " 32  NewVehicle                999546 non-null  object \n",
      " 33  SumInsured                999546 non-null  float64\n",
      " 34  TermFrequency             999546 non-null  object \n",
      " 35  CalculatedPremiumPerTerm  999546 non-null  float64\n",
      " 36  ExcessSelected            999546 non-null  object \n",
      " 37  CoverCategory             999546 non-null  object \n",
      " 38  CoverType                 999546 non-null  object \n",
      " 39  CoverGroup                999546 non-null  object \n",
      " 40  Section                   999546 non-null  object \n",
      " 41  Product                   999546 non-null  object \n",
      " 42  StatutoryClass            999546 non-null  object \n",
      " 43  StatutoryRiskType         999546 non-null  object \n",
      " 44  TotalPremium              999546 non-null  float64\n",
      " 45  TotalClaims               999546 non-null  float64\n",
      "dtypes: bool(1), float64(9), int64(4), object(32)\n",
      "memory usage: 344.1+ MB\n"
     ]
    }
   ],
   "source": [
    "df.info()"
   ]
  },
  {
   "cell_type": "code",
   "execution_count": 9,
   "id": "75f0a578",
   "metadata": {},
   "outputs": [],
   "source": [
    "df1 = df.sample(n=10000, random_state=42)"
   ]
  },
  {
   "cell_type": "code",
   "execution_count": 10,
   "id": "8dd7776c",
   "metadata": {},
   "outputs": [
    {
     "data": {
      "text/plain": [
       "439"
      ]
     },
     "execution_count": 10,
     "metadata": {},
     "output_type": "execute_result"
    }
   ],
   "source": [
    "df1[df1['Gender']=='male'].shape[0]"
   ]
  },
  {
   "cell_type": "code",
   "execution_count": 11,
   "id": "20ac7d57",
   "metadata": {},
   "outputs": [
    {
     "data": {
      "text/plain": [
       "85"
      ]
     },
     "execution_count": 11,
     "metadata": {},
     "output_type": "execute_result"
    }
   ],
   "source": [
    "df1[df1['Gender']=='female'].shape[0]"
   ]
  },
  {
   "cell_type": "code",
   "execution_count": 12,
   "id": "e09aa78c",
   "metadata": {},
   "outputs": [
    {
     "data": {
      "text/plain": [
       "9476"
      ]
     },
     "execution_count": 12,
     "metadata": {},
     "output_type": "execute_result"
    }
   ],
   "source": [
    "df1[df1['Gender']=='not specified'].shape[0]"
   ]
  },
  {
   "cell_type": "code",
   "execution_count": 13,
   "id": "e8f0a7c9",
   "metadata": {},
   "outputs": [],
   "source": [
    "df1.to_csv('../data/cleaned_insurance_data_sample.csv', index=False)"
   ]
  },
  {
   "cell_type": "markdown",
   "id": "1181e4cd",
   "metadata": {},
   "source": [
    "Statistically Validate or Reject Kye hypothesis about Risk drivers\n",
    "\n",
    "A/B Hypothesis Testing\n",
    "For the analysis risk is quantified with claim frequency and claim severity."
   ]
  },
  {
   "cell_type": "code",
   "execution_count": 14,
   "id": "ef37ce10",
   "metadata": {},
   "outputs": [
    {
     "name": "stderr",
     "output_type": "stream",
     "text": [
      "c:\\Users\\Tegbabu\\End-to-End-Insurance-Risk-Analytics-Predictive-Modeling\\scripts\\Statistical_hyphothesis.py:22: FutureWarning: A value is trying to be set on a copy of a DataFrame or Series through chained assignment using an inplace method.\n",
      "The behavior will change in pandas 3.0. This inplace method will never work because the intermediate object on which we are setting values always behaves as a copy.\n",
      "\n",
      "For example, when doing 'df[col].method(value, inplace=True)', try using 'df.method({col: value}, inplace=True)' or df[col] = df[col].method(value) instead, to perform the operation inplace on the original object.\n",
      "\n",
      "\n",
      "  df['Gender'].replace(r'^\\s*$', pd.NA, regex=True, inplace=True)\n"
     ]
    },
    {
     "name": "stdout",
     "output_type": "stream",
     "text": [
      "--- Hypothesis 1: Risk Differences across Provinces ---\n",
      "Claim Frequency by Province (Chi-squared test): p-value = 0.8202\n",
      "  Fail to reject H₀: No significant difference in claim frequency across provinces (p >= 0.05).\n"
     ]
    },
    {
     "name": "stderr",
     "output_type": "stream",
     "text": [
      "c:\\Users\\Tegbabu\\End-to-End-Insurance-Risk-Analytics-Predictive-Modeling\\scripts\\Statistical_hyphothesis.py:69: FutureWarning: Series.__getitem__ treating keys as positions is deprecated. In a future version, integer keys will always be treated as labels (consistent with DataFrame behavior). To access a value by position, use `ser.iloc[pos]`\n",
      "  p_val_severity_province = anova_table_severity_province['PR(>F)'][0]\n"
     ]
    },
    {
     "name": "stdout",
     "output_type": "stream",
     "text": [
      "Claim Severity by Province (ANOVA): p-value = 0.2289\n",
      "  Fail to reject H₀: No significant difference in claim severity across provinces (p >= 0.05).\n",
      "\n",
      "------------------------------------------------------------\n",
      "\n",
      "--- Hypothesis 2: Risk Differences between Zip Codes ---\n",
      "Claim Frequency by Zip Code (Chi-squared test): p-value = 1.0000\n",
      "  Fail to reject H₀: No significant difference in claim frequency between zip codes (p >= 0.05).\n"
     ]
    },
    {
     "name": "stderr",
     "output_type": "stream",
     "text": [
      "c:\\Users\\Tegbabu\\End-to-End-Insurance-Risk-Analytics-Predictive-Modeling\\scripts\\Statistical_hyphothesis.py:141: FutureWarning: Series.__getitem__ treating keys as positions is deprecated. In a future version, integer keys will always be treated as labels (consistent with DataFrame behavior). To access a value by position, use `ser.iloc[pos]`\n",
      "  p_val_severity_zip = anova_table_severity_zip['PR(>F)'][0]\n"
     ]
    },
    {
     "name": "stdout",
     "output_type": "stream",
     "text": [
      "Claim Severity by Zip Code (ANOVA): p-value = 0.4243\n",
      "  Fail to reject H₀: No significant difference in claim severity between zip codes (p >= 0.05).\n",
      "\n",
      "------------------------------------------------------------\n",
      "\n",
      "--- Hypothesis 3: Margin Difference between Zip Codes ---\n",
      "Margin by Zip Code (ANOVA): p-value = 1.0000\n",
      "  Fail to reject H₀: No significant difference in margin between zip codes (p >= 0.05).\n",
      "\n",
      "------------------------------------------------------------\n",
      "\n",
      "--- Hypothesis 4: Risk Differences between Women and Men ---\n",
      "  Not enough valid 'Gender' data (need at least 'Male' and 'Female') after cleaning for Chi-squared test.\n",
      "  Not enough valid 'Gender' data (need both 'Male' and 'Female' with claims) after cleaning for t-test.\n",
      "\n",
      "================================================================================\n",
      "\n",
      "\n",
      "--- Interpretation Guidelines ---\n",
      "For each test, compare the 'p-value' to the 'Significance level (alpha)' (0.05).\n",
      "If p-value < 0.05: Reject the Null Hypothesis (H₀). This means there's statistically significant evidence of a difference.\n",
      "If p-value >= 0.05: Fail to Reject the Null Hypothesis (H₀). This means there's no statistically significant evidence of a difference.\n",
      "\n",
      "For ANOVA tests, if the p-value is significant, a Tukey's HSD Post-hoc test is performed to identify which specific groups differ.\n"
     ]
    },
    {
     "name": "stderr",
     "output_type": "stream",
     "text": [
      "c:\\Users\\Tegbabu\\End-to-End-Insurance-Risk-Analytics-Predictive-Modeling\\scripts\\Statistical_hyphothesis.py:184: FutureWarning: Series.__getitem__ treating keys as positions is deprecated. In a future version, integer keys will always be treated as labels (consistent with DataFrame behavior). To access a value by position, use `ser.iloc[pos]`\n",
      "  p_val_margin_zip = anova_table_margin_zip['PR(>F)'][0]\n"
     ]
    }
   ],
   "source": [
    "statistic_hyphotesis_test(df1, alpha)"
   ]
  }
 ],
 "metadata": {
  "kernelspec": {
   "display_name": ".end2endenv",
   "language": "python",
   "name": "python3"
  },
  "language_info": {
   "codemirror_mode": {
    "name": "ipython",
    "version": 3
   },
   "file_extension": ".py",
   "mimetype": "text/x-python",
   "name": "python",
   "nbconvert_exporter": "python",
   "pygments_lexer": "ipython3",
   "version": "3.12.6"
  }
 },
 "nbformat": 4,
 "nbformat_minor": 5
}
